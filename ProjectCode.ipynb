{
 "cells": [
  {
   "cell_type": "code",
   "execution_count": 1,
   "id": "772e840a",
   "metadata": {},
   "outputs": [],
   "source": [
    "# Sneha Dubey\n",
    "# Dr. Chen\n",
    "# CSCI 184\n",
    "# [INSERT DATE DUE]\n",
    "# Final Project Code"
   ]
  },
  {
   "cell_type": "code",
   "execution_count": 2,
   "id": "9a904c4d",
   "metadata": {},
   "outputs": [],
   "source": [
    "# Imports & Settings\n",
    "\n",
    "import pandas as pd\n",
    "from sklearn.model_selection import train_test_split\n",
    "\n",
    "#pd.set_option('display.max_rows', None)"
   ]
  },
  {
   "cell_type": "code",
   "execution_count": 3,
   "id": "ed154e4d",
   "metadata": {},
   "outputs": [],
   "source": [
    "# Part 1: The Data"
   ]
  },
  {
   "cell_type": "code",
   "execution_count": 4,
   "id": "9f33fa8f",
   "metadata": {},
   "outputs": [
    {
     "name": "stdout",
     "output_type": "stream",
     "text": [
      "<class 'pandas.core.frame.DataFrame'>\n",
      "RangeIndex: 60000 entries, 0 to 59999\n",
      "Columns: 707 entries, Unnamed: 0 to sourcevar\n",
      "dtypes: float64(449), int64(89), object(169)\n",
      "memory usage: 323.6+ MB\n"
     ]
    }
   ],
   "source": [
    "# Reading data from a .csv file to pandas DataFrame\n",
    "file = \"./dataset/CCES22_Common_OUTPUT_vv_topost.csv\"\n",
    "originalData = pd.read_csv(file, low_memory=False)\n",
    "originalData.info()"
   ]
  },
  {
   "cell_type": "code",
   "execution_count": 5,
   "id": "71b2bbd1",
   "metadata": {},
   "outputs": [
    {
     "name": "stdout",
     "output_type": "stream",
     "text": [
      "<class 'pandas.core.frame.DataFrame'>\n",
      "Int64Index: 41675 entries, 0 to 59999\n",
      "Columns: 707 entries, Unnamed: 0 to sourcevar\n",
      "dtypes: float64(449), int64(89), object(169)\n",
      "memory usage: 225.1+ MB\n"
     ]
    }
   ],
   "source": [
    "# Creating another DataFrame to protect the original data\n",
    "preprocessedData = originalData\n",
    "\n",
    "# Dropping rows pertaining to people not registered to vote\n",
    "preprocessedData = preprocessedData.dropna(subset=['TS_voterstatus'])\n",
    "\n",
    "# info() check after first preprocessing step\n",
    "preprocessedData.info()"
   ]
  },
  {
   "cell_type": "code",
   "execution_count": 6,
   "id": "de442462",
   "metadata": {
    "scrolled": true
   },
   "outputs": [
    {
     "name": "stdout",
     "output_type": "stream",
     "text": [
      "<class 'pandas.core.frame.DataFrame'>\n",
      "Int64Index: 41675 entries, 0 to 59999\n",
      "Columns: 329 entries, Unnamed: 0 to TS_partyreg\n",
      "dtypes: float64(245), int64(84)\n",
      "memory usage: 104.9 MB\n"
     ]
    }
   ],
   "source": [
    "# Dropping all unnecessary features\n",
    "    # Ones not regarding subjects' demographic/ideological info (they have no effect on subjects' political parties)\n",
    "\n",
    "firstBatch = [\"TS_voterstatus\", \"TS_g2022\", \"TS_p2022\", \"TS_p2022_party\", \"tookpost\", \"CCEStake\",\n",
    "                \"add_confirm\", \"comptype\", \"votereg_f\", \"ccesmodule\", \"CC22_360\", \"presvote20post\",\n",
    "                \"CC22_365_voted\", \"CC22_365b_voted\", \"CC22_366_voted\", \"CC22_367_voted\", \"CC22_365\",\n",
    "                \"CC22_365b\", \"CC22_365c\", \"CC22_366\", \"CC22_367\", \"CC22_367a\", \"religpew_protestant\",\n",
    "                \"religpew_baptist\", \"religpew_methodist\", \"religpew_nondenom\", \"religpew_lutheran\",\n",
    "                \"religpew_presby\", \"religpew_pentecost\", \"religpew_episcop\", \"religpew_christian\",\n",
    "                \"religpew_congreg\", \"religpew_holiness\", \"religpew_reformed\", \"religpew_advent\",\n",
    "                \"religpew_catholic\", \"religpew_mormon\", \"religpew_orthodox\", \"religpew_jewish\",\n",
    "                \"religpew_muslim\", \"religpew_buddhist\", \"religpew_hindu\", \"union_coverage\", \"healthins2\",\n",
    "                \"presvote16post\", \"regzip_confirm_post\", \"reszip_confirm_post\", \"votereg_post\",\n",
    "                \"votereg_f_post\", \"inputstate_post\", \"gender4_post\", \"CC22_401\", \"CC22_402a\", \"CC22_402b\",\n",
    "                \"CC22_403\", \"CC22_403b\", \"CC22_403c\", \"CC22_403d\", \"CC22_404\", \"CC22_405\", \"CC22_406a\",\n",
    "                \"CC22_406b_1\",\"CC22_406b_2\",\"CC22_406b_3\",\"CC22_406b_4\",\"CC22_406b_t\", \"CC22_406c\",\n",
    "                \"CC22_411\", \"CC22_411b\", \"CC22_412\", \"CC22_413\", \"CC22_411_nv\", \"CC22_411b_nv\", \"CC22_412_nv\",\n",
    "                \"CC22_413_nv\", \"CC22_414a\", \"CC22_414b\", \"CC22_415c\", \"CC22_415d\", \"CC22_416a\", \"CC22_416b\",\n",
    "                \"CC22_416c\", \"CC22_416a_other\", \"CC22_416b_other\", \"CC22_416c_other\", \"CC22_432a\",\n",
    "                \"CC22_433_dem\", \"CC22_433_rep\", \"HouseCand3Name_post\", \"HouseCand3Party_post\",\n",
    "                \"HouseCand4Name_post\", \"HouseCand4Party_post\", \"HouseCand5Name_post\", \"HouseCand5Party_post\",\n",
    "                \"HouseCand6Name_post\", \"HouseCand6Party_post\", \"HouseCand7Name_post\", \"HouseCand7Party_post\",\n",
    "                \"HouseCand8Name_post\", \"HouseCand8Party_post\", \"SenCand1Name_post\", \"SenCand1Party_post\",\n",
    "                \"SenCand2Name_post\", \"SenCand2Party_post\", \"SenCand3Name_post\", \"SenCand3Party_post\",\n",
    "                \"SenCand4Name_post\", \"SenCand4Party_post\", \"SenCand1Name2_post\", \"SenCand1Party2_post\",\n",
    "                \"SenCand2Name2_post\", \"SenCand2Party2_post\", \"AttCand1Name\", \"AttCand2Name\", \"AttCand3Name\",\n",
    "                \"AttCand1Party\", \"AttCand2Party\", \"AttCand3Party\", \"SecCand1Name\", \"SecCand2Name\",\n",
    "                \"SecCand3Name\", \"SecCand1Party\", \"SecCand2Party\", \"SecCand3Party\", \"starttime\", \"endtime\",\n",
    "                \"starttime_post\", \"endtime_post\", \"HouseCand2Name\", \"HouseCand2Party\", \"HouseCand3Name\",\n",
    "                \"HouseCand3Party\", \"HouseCand4Name\", \"HouseCand4Party\", \"HouseCand5Name\", \"HouseCand5Party\",\n",
    "                \"HouseCand6Name\", \"HouseCand6Party\", \"HouseCand7Name\", \"HouseCand7Party\", \"HouseCand8Name\",\n",
    "                \"HouseCand8Party\", \"SenCand1Name\", \"SenCand1Party\", \"SenCand2Name\", \"SenCand2Party\",\n",
    "                \"SenCand3Name\", \"SenCand3Party\", \"SenCand4Name\", \"SenCand4Party\", \"SenCand1Name2\",\n",
    "                \"SenCand1Party2\", \"SenCand2Name2\", \"SenCand2Party2\", \"countyname\", \"LowerChamberName_post\",\n",
    "                \"HouseCand2Party_post\", \"CurrentGovParty_post\", \"CurrentHouseName_post\",\n",
    "                \"CurrentHouseParty_post\", \"CurrentSen1Name_post\", \"CurrentSen1Party_post\",\n",
    "                \"CurrentSen2Name_post\", \"CurrentSen2Party_post\", \"GovCand1Name_post\", \"GovCand1Party_post\",\n",
    "                \"GovCand2Name_post\", \"GovCand2Party_post\", \"GovCand3Name_post\", \"GovCand3Party_post\",\n",
    "                \"HouseCand1Name_post\", \"HouseCand1Party_post\", \"HouseCand2Name_post\", \"HouseCand2Party_post\",\n",
    "                \"presvote16post_t\", \"LegName\", \"HouseCand1Party\", \"UpperChamberName\", \"CurrentGovName\",\n",
    "                \"CurrentGovParty\", \"CurrentHouseName\", \"CurrentHouseParty\", \"CurrentSen1Name\",\n",
    "                \"CurrentSen1Party\", \"CurrentSen2Name\",    \"CurrentSen2Party\", \"GovCand1Name\", \"GovCand1Party\",\n",
    "                \"GovCand2Name\", \"GovCand2Party\", \"GovCand3Name\", \"GovCand3Party\", \"HouseCand1Name\",\n",
    "                \"HouseCand1Party\", \"presvote20post_t\", \"LowerChamberName\", \"LegName_post\",\n",
    "                \"CurrentGovName_post\", \"CC22_365_voted_t\", \"CC22_365b_voted_t\", \"CC22_366_voted_t\",\n",
    "                \"CC22_367_voted_t\", \"CC22_365_t\", \"CC22_365a_t\", \"CC22_365b_t\", \"CC22_365c_t\",\n",
    "                \"CC22_366_t\", \"CC22_367_t\", \"CC22_367a_t\", \"CC22_402a_t\", \"CC22_402b_t\", \"CC22_403c_t\",\n",
    "                \"CC22_403d_t\", \"CC22_404_t\", \"CC22_411_t\", \"CC22_411b_t\", \"CC22_412_t\", \"CC22_413_t\",\n",
    "                \"CC22_411_nv_t\", \"CC22_411b_nv_t\", \"CC22_412_nv_t\", \"CC22_413_nv_t\", \"sourcevar\", \"race_other\"]\n",
    "secondBatch = [col for col in preprocessedData.columns if col.endswith('_timing')]\n",
    "thirdBatch = [col for col in preprocessedData.columns if col.endswith('_t')]\n",
    "\n",
    "unnecessaryColumns = firstBatch + secondBatch + thirdBatch\n",
    "\n",
    "preprocessedData = preprocessedData.drop(unnecessaryColumns, axis=1)\n",
    "\n",
    "# info() check after second preprocessing step\n",
    "preprocessedData.info()"
   ]
  },
  {
   "cell_type": "code",
   "execution_count": 7,
   "id": "9ff4bcf3",
   "metadata": {},
   "outputs": [
    {
     "name": "stdout",
     "output_type": "stream",
     "text": [
      "Series([], dtype: object)\n"
     ]
    }
   ],
   "source": [
    "# Checking if there are any categorical variables to encode\n",
    "categorical = preprocessedData.select_dtypes(include=['object', 'category']).columns.tolist()\n",
    "print(preprocessedData.dtypes[categorical])"
   ]
  },
  {
   "cell_type": "code",
   "execution_count": 8,
   "id": "04305e67",
   "metadata": {},
   "outputs": [
    {
     "name": "stdout",
     "output_type": "stream",
     "text": [
      "Number of empty values: 3010081\n",
      "Number of empty values: 0\n"
     ]
    }
   ],
   "source": [
    "# Replacing any and all empty values with the means of their respective columns\n",
    "    # Choosing to use the means because this average number will not sway the models either which way\n",
    "        # mean = neutral characteristic that has no bearing on the subjects' political parties\n",
    "\n",
    "intCols = preprocessedData.select_dtypes(include='int64').columns\n",
    "floatCols = preprocessedData.select_dtypes(include='float64').columns\n",
    "\n",
    "# Rounding the mean() for int64 columns to keep the datatype the same\n",
    "preprocessedData[intCols] = preprocessedData[intCols].fillna(preprocessedData[intCols].mean().round())\n",
    "preprocessedData[floatCols] = preprocessedData[floatCols].fillna(preprocessedData[floatCols].mean())\n",
    "\n",
    "# info() check after third preprocessing step\n",
    "preprocessedData.info()"
   ]
  },
  {
   "cell_type": "code",
   "execution_count": 10,
   "id": "de1d2f7f",
   "metadata": {},
   "outputs": [],
   "source": [
    "# Saving preprocessed data into an external file just in case of any mishaps\n",
    "preprocessedData.to_csv(\"./dataset/preprocessedData.csv\", index=False)"
   ]
  },
  {
   "cell_type": "code",
   "execution_count": null,
   "id": "6a6c4141",
   "metadata": {},
   "outputs": [],
   "source": [
    "# Splitting the preprocessed data into training and testing sets\n",
    "features = preprocessedData.drop(columns=['TS_partyreg'])\n",
    "target = preprocessedData['TS_partyreg']\n",
    "\n",
    "featureTrain, featureTest, targetTrain, targetTest = train_test_split(features, target, test_size=0.3, random_state=42)"
   ]
  },
  {
   "cell_type": "code",
   "execution_count": null,
   "id": "4f0cdab2",
   "metadata": {},
   "outputs": [],
   "source": [
    "# Preprocessing the data complete!"
   ]
  },
  {
   "cell_type": "code",
   "execution_count": 11,
   "id": "9a426706",
   "metadata": {},
   "outputs": [],
   "source": [
    "# Part 2: The Models"
   ]
  },
  {
   "cell_type": "code",
   "execution_count": null,
   "id": "f04a8c6a",
   "metadata": {},
   "outputs": [],
   "source": []
  },
  {
   "cell_type": "code",
   "execution_count": 12,
   "id": "f0564eec",
   "metadata": {},
   "outputs": [],
   "source": [
    "# Part 3: Feature vs. Feature & Feature vs. Target Relationships"
   ]
  },
  {
   "cell_type": "code",
   "execution_count": null,
   "id": "8b19dc73",
   "metadata": {},
   "outputs": [],
   "source": []
  },
  {
   "cell_type": "code",
   "execution_count": 13,
   "id": "b317560a",
   "metadata": {},
   "outputs": [],
   "source": [
    "# Part 4: Predictions Based on UI"
   ]
  },
  {
   "cell_type": "code",
   "execution_count": null,
   "id": "2e5dc365",
   "metadata": {},
   "outputs": [],
   "source": []
  }
 ],
 "metadata": {
  "kernelspec": {
   "display_name": "Python 3 (ipykernel)",
   "language": "python",
   "name": "python3"
  },
  "language_info": {
   "codemirror_mode": {
    "name": "ipython",
    "version": 3
   },
   "file_extension": ".py",
   "mimetype": "text/x-python",
   "name": "python",
   "nbconvert_exporter": "python",
   "pygments_lexer": "ipython3",
   "version": "3.10.9"
  }
 },
 "nbformat": 4,
 "nbformat_minor": 5
}
